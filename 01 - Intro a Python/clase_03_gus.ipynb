{
 "cells": [
  {
   "cell_type": "markdown",
   "metadata": {},
   "source": [
    "Voy a implementar un selection sort a mi manera\n",
    "\n",
    "Idea:\n",
    "\n",
    "- Empezar a recorrer la lista hasta quedarme con el valor mínimo\n",
    "- Guardar ese mínimo en una nueva lista y sacarlo de la original\n",
    "- Repetir"
   ]
  },
  {
   "cell_type": "code",
   "execution_count": 44,
   "metadata": {},
   "outputs": [],
   "source": [
    "def selection_sort(lista:list, reverse=False) -> list:\n",
    "    \"\"\"function that receives a unsorted list and returns a sorted one\n",
    "    Args_\n",
    "        lista (list): raw list, can be empty\n",
    "    Returns:\n",
    "        list: sorted list\n",
    "    \"\"\"\n",
    "    sorted = []\n",
    "    while lista:\n",
    "        min = lista[0]\n",
    "        for num in lista:\n",
    "            if not reverse:\n",
    "                if num < min:\n",
    "                    min = num\n",
    "            else:\n",
    "                if num > min:\n",
    "                    min = num\n",
    "        sorted.append(min)\n",
    "        lista.remove(min)\n",
    "    return sorted"
   ]
  },
  {
   "cell_type": "code",
   "execution_count": 48,
   "metadata": {},
   "outputs": [
    {
     "data": {
      "text/plain": [
       "[-10, 0, 1, 2, 2, 3, 3, 3, 4, 5, 5, 8, 10]"
      ]
     },
     "execution_count": 48,
     "metadata": {},
     "output_type": "execute_result"
    }
   ],
   "source": [
    "lista = [5, 4, 3, 2, 1, 10, 0, 3, 3, -10, 8, 2, 5]\n",
    "selection_sort(lista, reverse=False)"
   ]
  }
 ],
 "metadata": {
  "kernelspec": {
   "display_name": "Python 3",
   "language": "python",
   "name": "python3"
  },
  "language_info": {
   "codemirror_mode": {
    "name": "ipython",
    "version": 3
   },
   "file_extension": ".py",
   "mimetype": "text/x-python",
   "name": "python",
   "nbconvert_exporter": "python",
   "pygments_lexer": "ipython3",
   "version": "3.10.11"
  }
 },
 "nbformat": 4,
 "nbformat_minor": 2
}
