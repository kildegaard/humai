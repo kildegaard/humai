{
  "cells": [
    {
      "cell_type": "markdown",
      "metadata": {
        "id": "3xnVL4leSAuq"
      },
      "source": [
        "<a href=\"https://colab.research.google.com/github/institutohumai/cursos-python/blob/master/Introduccion/2_Listas_Y_Funciones/ejercicio/ejercicio.ipynb\"> <img src='https://colab.research.google.com/assets/colab-badge.svg' /> </a>\n",
        "<div align=\"center\"> Recordá abrir en una nueva pestaña </div>\n"
      ]
    },
    {
      "cell_type": "markdown",
      "metadata": {
        "id": "CQJWp-p3SAur"
      },
      "source": [
        "# Ejercicios II"
      ]
    },
    {
      "cell_type": "markdown",
      "metadata": {
        "id": "aGsrcmKjSAur"
      },
      "source": [
        "## El contador de palabras\n",
        "\n",
        "Una revista científica quiere publicar los abstracts de los trabajos que aprobó recientemente pero primero tiene que asegurarse de que ninguno de los abstracts tenga más de 200 palabras.\n",
        "\n",
        "Para interactuar con los archivos que tenemos en nuestro \"file system\" vamos a utilizar el módulo os. No se preocupen por entender todos los detalles ahora, vamos a ir profundizando en la utilización de módulos."
      ]
    },
    {
      "cell_type": "code",
      "execution_count": null,
      "metadata": {
        "colab": {
          "base_uri": "https://localhost:8080/"
        },
        "id": "Uo9BDzTlSAus",
        "outputId": "96428cf7-f9c2-4251-fd22-2b853a198eb2"
      },
      "outputs": [
        {
          "name": "stdout",
          "output_type": "stream",
          "text": [
            "--2024-02-06 12:10:29--  https://datasets-humai.s3.amazonaws.com/datasets/publicaciones.zip\n",
            "Resolving datasets-humai.s3.amazonaws.com (datasets-humai.s3.amazonaws.com)... 16.182.66.169, 16.182.100.217, 16.182.103.89, ...\n",
            "Connecting to datasets-humai.s3.amazonaws.com (datasets-humai.s3.amazonaws.com)|16.182.66.169|:443... connected.\n",
            "HTTP request sent, awaiting response... 200 OK\n",
            "Length: 4342 (4.2K) [application/zip]\n",
            "Saving to: ‘publicaciones.zip’\n",
            "\n",
            "publicaciones.zip   100%[===================>]   4.24K  --.-KB/s    in 0s      \n",
            "\n",
            "2024-02-06 12:10:30 (175 MB/s) - ‘publicaciones.zip’ saved [4342/4342]\n",
            "\n"
          ]
        }
      ],
      "source": [
        "!wget https://datasets-humai.s3.amazonaws.com/datasets/publicaciones.zip"
      ]
    },
    {
      "cell_type": "code",
      "execution_count": null,
      "metadata": {
        "colab": {
          "base_uri": "https://localhost:8080/"
        },
        "id": "Ac8VveWUSAus",
        "outputId": "49594ac0-52c0-4fe8-cdb9-ff6abca99bcc"
      },
      "outputs": [
        {
          "name": "stdout",
          "output_type": "stream",
          "text": [
            "Archive:  publicaciones.zip\n",
            "   creating: publicaciones/\n",
            "  inflating: publicaciones/Yukon Delta Salmon Management.txt  \n",
            "  inflating: publicaciones/The Citrus Solution Phase II.txt  \n",
            "  inflating: publicaciones/Characterization of Iron Deposition in Recombinant Heteropolymer.txt  \n",
            "  inflating: publicaciones/Using GIS Site Suitability Analysis to Study Adaptability.txt  \n"
          ]
        }
      ],
      "source": [
        "!unzip publicaciones.zip"
      ]
    },
    {
      "cell_type": "code",
      "execution_count": null,
      "metadata": {
        "id": "a0Q6X_FjSAut"
      },
      "outputs": [],
      "source": [
        "import os"
      ]
    },
    {
      "cell_type": "code",
      "execution_count": null,
      "metadata": {
        "id": "LR9ms3x5SAut"
      },
      "outputs": [],
      "source": [
        "archivos_directorio = os.listdir('publicaciones')"
      ]
    },
    {
      "cell_type": "code",
      "execution_count": null,
      "metadata": {
        "colab": {
          "base_uri": "https://localhost:8080/"
        },
        "id": "FutPbunxSAut",
        "outputId": "d22616ea-b86b-4d1e-ccba-4adbe6065bd7"
      },
      "outputs": [
        {
          "name": "stdout",
          "output_type": "stream",
          "text": [
            "['The Citrus Solution Phase II.txt', 'Yukon Delta Salmon Management.txt', 'Characterization of Iron Deposition in Recombinant Heteropolymer.txt', 'Using GIS Site Suitability Analysis to Study Adaptability.txt']\n"
          ]
        }
      ],
      "source": [
        "print(archivos_directorio)"
      ]
    },
    {
      "cell_type": "markdown",
      "metadata": {
        "id": "GiDh-6QDSAut"
      },
      "source": [
        "La función listdir nos devuelve una lista con todos los archivos que están en la carpeta publicaciones. Noten que solamente nos devuelve los nombres de los archivos, no la ruta completa que necesitamos para acceder a los mismos desde la ubicación en el filesystem donde se encuentra esta notebook.\n",
        "\n",
        "Las rutas hasta los archivos cambian con el sistema operativo, por eso si están en Windows, la forma de acceder al archivo Yukon Delta Salmon Management.txt es ejercicios\\\\Yukon Delta Salmon Management.txt mientras que si están en Linux o Unix la forma de acceder es ejercicios/Yukon Delta Salmon Management.txt .  Para evitar problemas y que el código sea ejecutable desde cualquier sistema operativo, el módulo os tiene la función os.join.\n",
        "\n",
        "Entonces para crear las rutas vamos a usar la función os.path.join y para esto es ideal una lista por comprensión"
      ]
    },
    {
      "cell_type": "code",
      "execution_count": null,
      "metadata": {
        "id": "SFTAtRwkSAut"
      },
      "outputs": [],
      "source": [
        "rutas_archivos = [os.path.join('publicaciones',archivo) for archivo in archivos_directorio]"
      ]
    },
    {
      "cell_type": "code",
      "execution_count": null,
      "metadata": {
        "colab": {
          "base_uri": "https://localhost:8080/"
        },
        "id": "p_H6j6DVSAut",
        "outputId": "81f84de9-0bba-485f-d1ab-5d4a99892136"
      },
      "outputs": [
        {
          "data": {
            "text/plain": [
              "['publicaciones/The Citrus Solution Phase II.txt',\n",
              " 'publicaciones/Yukon Delta Salmon Management.txt',\n",
              " 'publicaciones/Characterization of Iron Deposition in Recombinant Heteropolymer.txt',\n",
              " 'publicaciones/Using GIS Site Suitability Analysis to Study Adaptability.txt']"
            ]
          },
          "execution_count": 7,
          "metadata": {},
          "output_type": "execute_result"
        }
      ],
      "source": [
        "rutas_archivos"
      ]
    },
    {
      "cell_type": "markdown",
      "metadata": {
        "id": "zRmszDA_SAuu"
      },
      "source": [
        "Ahora vamos a unir estas dos listas del mismo tamaño en una lista de tuplas utilizando la función \"zip\" de Python nativo. Como el zip de Python devuelve un objeto iterable, vamos a convertirlo en lista para trabajar mejor"
      ]
    },
    {
      "cell_type": "code",
      "execution_count": null,
      "metadata": {
        "id": "qWWHAMOpSAuu"
      },
      "outputs": [],
      "source": [
        "tuplas_archivos = list(zip(rutas_archivos,archivos_directorio))"
      ]
    },
    {
      "cell_type": "code",
      "execution_count": null,
      "metadata": {
        "colab": {
          "base_uri": "https://localhost:8080/"
        },
        "id": "lxLSMjoHSAuu",
        "outputId": "b66807f2-c473-44e7-8ecb-88190a0811a6"
      },
      "outputs": [
        {
          "name": "stdout",
          "output_type": "stream",
          "text": [
            "('publicaciones/The Citrus Solution Phase II.txt', 'The Citrus Solution Phase II.txt')\n",
            "('publicaciones/Yukon Delta Salmon Management.txt', 'Yukon Delta Salmon Management.txt')\n",
            "('publicaciones/Characterization of Iron Deposition in Recombinant Heteropolymer.txt', 'Characterization of Iron Deposition in Recombinant Heteropolymer.txt')\n",
            "('publicaciones/Using GIS Site Suitability Analysis to Study Adaptability.txt', 'Using GIS Site Suitability Analysis to Study Adaptability.txt')\n"
          ]
        }
      ],
      "source": [
        "for tupla in tuplas_archivos:\n",
        "    print(tupla)"
      ]
    },
    {
      "cell_type": "markdown",
      "metadata": {
        "id": "oDd67ckJSAuu"
      },
      "source": [
        "Ahora sí, vamos a pedirles que creen una función que reciba una tupla con la ruta y el nombre del archivo. Necesitamos que esta función cuente las palabras que hay en el txt que se encuentra en esa ruta y luego imprima el nombre del archivo y la cantidad.\n",
        "Después vamos a escribir un for loop que recorra la lista tuplas_archivos y devuelve una tupla con el nombre del archivo y la cantidad de palabras. Desde el loop for vamos a imprimir esa tupla.\n"
      ]
    },
    {
      "cell_type": "code",
      "execution_count": null,
      "metadata": {
        "id": "QuRfrUqgSAuu"
      },
      "outputs": [],
      "source": [
        "# 1. Escribir la función\n",
        "def contar_palabras(paper:tuple) -> tuple:\n",
        "    with open(paper[0], 'r') as f:\n",
        "        words = f.read().split(' ')\n",
        "    return (paper[1], len(words))"
      ]
    },
    {
      "cell_type": "code",
      "execution_count": null,
      "metadata": {
        "id": "dKZ3GwrdSAuu"
      },
      "outputs": [],
      "source": [
        "# 2. Recorrer en un loop tuplas_archivos invocando a la función"
      ]
    },
    {
      "cell_type": "code",
      "execution_count": null,
      "metadata": {
        "colab": {
          "base_uri": "https://localhost:8080/"
        },
        "id": "laR6lCfgajsS",
        "outputId": "34f0cb37-b18c-43b1-c685-21d81081180a"
      },
      "outputs": [
        {
          "name": "stdout",
          "output_type": "stream",
          "text": [
            "The Citrus Solution Phase II.txt 519\n",
            "Yukon Delta Salmon Management.txt 109\n",
            "Characterization of Iron Deposition in Recombinant Heteropolymer.txt 217\n",
            "Using GIS Site Suitability Analysis to Study Adaptability.txt 134\n"
          ]
        }
      ],
      "source": [
        "for papers in tuplas_archivos:\n",
        "    paper, paper_long = contar_palabras(papers)\n",
        "    print(paper, paper_long)"
      ]
    },
    {
      "cell_type": "markdown",
      "metadata": {
        "id": "SocwM0SWSAuu"
      },
      "source": [
        "Entonces ¿Cuáles superan las 250 palabras? Si quieren ir una milla extra modifiquen la función para que devuelva True si supera y False si no supera en lugar de devolver la cantidad."
      ]
    },
    {
      "cell_type": "code",
      "execution_count": null,
      "metadata": {
        "id": "zvlMAHMnSAuv"
      },
      "outputs": [],
      "source": [
        "# 3. Modifiquen la función"
      ]
    },
    {
      "cell_type": "code",
      "execution_count": null,
      "metadata": {
        "id": "MLh1qifMa-cr"
      },
      "outputs": [],
      "source": [
        "def contar_palabras_2(paper:tuple) -> tuple:\n",
        "    supera = False\n",
        "    with open(paper[0], 'r') as f:\n",
        "        words = f.read().split(' ')\n",
        "    if len(words) > 250:\n",
        "        supera = True\n",
        "    return supera"
      ]
    },
    {
      "cell_type": "code",
      "execution_count": null,
      "metadata": {
        "id": "Q1tWT6LISAuv"
      },
      "outputs": [],
      "source": [
        "#4. Vuelvan a llamarla"
      ]
    },
    {
      "cell_type": "code",
      "execution_count": null,
      "metadata": {
        "colab": {
          "base_uri": "https://localhost:8080/"
        },
        "id": "j7h_RBTlSAuv",
        "outputId": "10a56252-cfd8-4e91-8640-b7bbc697cce9"
      },
      "outputs": [
        {
          "name": "stdout",
          "output_type": "stream",
          "text": [
            "El trabajo **The Citrus Solution Phase I** supera las 250 palabras\n",
            "El trabajo **Yukon Delta Salmon Managemen** NO supera las 250 palabras\n",
            "El trabajo **Characterization of Iron Deposition in Recombinant Heteropolyme** NO supera las 250 palabras\n",
            "El trabajo **Using GIS Site Suitability Analysis to Study Adaptabilit** NO supera las 250 palabras\n"
          ]
        }
      ],
      "source": [
        "for papers in tuplas_archivos:\n",
        "    if contar_palabras_2(papers):\n",
        "        print(f'El trabajo **{papers[1][:-5]}** supera las 250 palabras')\n",
        "    else:\n",
        "        print(f'El trabajo **{papers[1][:-5]}** NO supera las 250 palabras')"
      ]
    }
  ],
  "metadata": {
    "colab": {
      "provenance": []
    },
    "kernelspec": {
      "display_name": "conda_python3",
      "language": "python",
      "name": "conda_python3"
    },
    "language_info": {
      "codemirror_mode": {
        "name": "ipython",
        "version": 3
      },
      "file_extension": ".py",
      "mimetype": "text/x-python",
      "name": "python",
      "nbconvert_exporter": "python",
      "pygments_lexer": "ipython3",
      "version": "3.6.10"
    }
  },
  "nbformat": 4,
  "nbformat_minor": 0
}
