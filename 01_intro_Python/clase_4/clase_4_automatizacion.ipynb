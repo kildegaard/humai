{
 "cells": [
  {
   "cell_type": "markdown",
   "metadata": {},
   "source": [
    "## Descarga de archivo desde internet"
   ]
  },
  {
   "cell_type": "markdown",
   "metadata": {},
   "source": [
    "Descargamos archivo .zip desde una dirección de internet. Lo vamos a hacer de a fracciones para evitar sobrepoblar la memoria en caso que sea un archivo muy extenso"
   ]
  },
  {
   "cell_type": "code",
   "execution_count": 8,
   "metadata": {},
   "outputs": [
    {
     "name": "stdout",
     "output_type": "stream",
     "text": [
      "Expo_2021.zip downloaded successfully!\n"
     ]
    }
   ],
   "source": [
    "import requests\n",
    "\n",
    "url = \"http://microdatos.dane.gov.co/index.php/catalog/472/download/21071\"\n",
    "filename = \"Expo_2021.zip\"\n",
    "response = requests.get(url, stream=True) # stream=True para bajarlo de a pedazos\n",
    "\n",
    "if response.status_code == 200: # Significa que se pudo acceder al recurso\n",
    "    with open(filename, \"wb\") as f:\n",
    "        for chunk in response.iter_content(1024): # Lo parto en partes para ahorro de memoria\n",
    "            f.write(chunk)\n",
    "    print(f\"Expo_2021.zip downloaded successfully!\")\n",
    "else:\n",
    "    print(f\"Error downloading file: {response.status_code}\")"
   ]
  },
  {
   "cell_type": "markdown",
   "metadata": {},
   "source": [
    "Esta sería la versión para descargalo de una sola vez"
   ]
  },
  {
   "cell_type": "code",
   "execution_count": 12,
   "metadata": {},
   "outputs": [],
   "source": [
    "url = \"http://microdatos.dane.gov.co/index.php/catalog/472/download/21071\"\n",
    "\n",
    "response = requests.get(url, stream=False)\n",
    "\n",
    "with open(filename, \"wb\") as f:\n",
    "    f.write(response.content)"
   ]
  },
  {
   "cell_type": "markdown",
   "metadata": {},
   "source": [
    "## Manejando archivo .zip"
   ]
  },
  {
   "cell_type": "markdown",
   "metadata": {},
   "source": [
    "Vamos a manipular un archivo .zip, para descomprimirlo y permitir su uso"
   ]
  },
  {
   "cell_type": "code",
   "execution_count": 14,
   "metadata": {},
   "outputs": [],
   "source": [
    "from zipfile import ZipFile\n",
    "\n",
    "with ZipFile(\"./Expo_2021.zip\", \"r\") as zip_file:\n",
    "    zip_file.extractall(\".\")"
   ]
  },
  {
   "cell_type": "markdown",
   "metadata": {},
   "source": [
    "Ahora vamos a listar lo que había en el interior del mismo"
   ]
  },
  {
   "cell_type": "code",
   "execution_count": 15,
   "metadata": {},
   "outputs": [
    {
     "data": {
      "text/plain": [
       "['Abril.zip',\n",
       " 'Agosto.zip',\n",
       " 'Diciembre.zip',\n",
       " 'Enero.zip',\n",
       " 'Febrero.zip',\n",
       " 'Julio.zip',\n",
       " 'Junio.zip',\n",
       " 'Marzo.zip',\n",
       " 'Mayo.zip',\n",
       " 'Noviembre.zip',\n",
       " 'Octubre.zip',\n",
       " 'Septiembre.zip']"
      ]
     },
     "execution_count": 15,
     "metadata": {},
     "output_type": "execute_result"
    }
   ],
   "source": [
    "import os\n",
    "\n",
    "os.listdir(\"./Expo_2021\")"
   ]
  },
  {
   "cell_type": "markdown",
   "metadata": {},
   "source": [
    "Más archivos zip!\n",
    "\n",
    "Vamos a buscar descomprimirlos a todos de un tirón"
   ]
  },
  {
   "cell_type": "code",
   "execution_count": 16,
   "metadata": {},
   "outputs": [],
   "source": [
    "from glob import glob"
   ]
  },
  {
   "cell_type": "code",
   "execution_count": 17,
   "metadata": {},
   "outputs": [
    {
     "data": {
      "text/plain": [
       "['./Expo_2021\\\\Abril.zip',\n",
       " './Expo_2021\\\\Agosto.zip',\n",
       " './Expo_2021\\\\Diciembre.zip',\n",
       " './Expo_2021\\\\Enero.zip',\n",
       " './Expo_2021\\\\Febrero.zip',\n",
       " './Expo_2021\\\\Julio.zip',\n",
       " './Expo_2021\\\\Junio.zip',\n",
       " './Expo_2021\\\\Marzo.zip',\n",
       " './Expo_2021\\\\Mayo.zip',\n",
       " './Expo_2021\\\\Noviembre.zip',\n",
       " './Expo_2021\\\\Octubre.zip',\n",
       " './Expo_2021\\\\Septiembre.zip']"
      ]
     },
     "execution_count": 17,
     "metadata": {},
     "output_type": "execute_result"
    }
   ],
   "source": [
    "datos_path = \"./Expo_2021\"\n",
    "zip_files_paths = glob(datos_path + \"/*.zip\")\n",
    "zip_files_paths"
   ]
  },
  {
   "cell_type": "code",
   "execution_count": 22,
   "metadata": {},
   "outputs": [],
   "source": [
    "for zip_file_path in zip_files_paths:\n",
    "    folder_name = zip_file_path[:-4]\n",
    "\n",
    "    with ZipFile(zip_file_path, \"r\") as zip_file:\n",
    "        zip_file.extractall(folder_name)"
   ]
  },
  {
   "cell_type": "markdown",
   "metadata": {},
   "source": [
    "Si quiero extraer un solo archivo del .zip:"
   ]
  },
  {
   "cell_type": "code",
   "execution_count": null,
   "metadata": {},
   "outputs": [],
   "source": [
    "path_de_zip = \"./Expo_2021.zip\"\n",
    "with ZipFile(path_de_zip, \"r\") as zip_file:\n",
    "    nombre_archivos = zip_file.namelist()\n",
    "    print(nombre_archivos)\n",
    "    archivo_a_extraer = nombre_archivos[0]\n",
    "    zip_file.extract(archivo_a_extraer, \"aca nomas\")"
   ]
  },
  {
   "cell_type": "code",
   "execution_count": 42,
   "metadata": {},
   "outputs": [
    {
     "name": "stdout",
     "output_type": "stream",
     "text": [
      "['Expo_2021/Abril.zip', 'Expo_2021/Agosto.zip', 'Expo_2021/Diciembre.zip', 'Expo_2021/Enero.zip', 'Expo_2021/Febrero.zip', 'Expo_2021/Julio.zip', 'Expo_2021/Junio.zip', 'Expo_2021/Marzo.zip', 'Expo_2021/Mayo.zip', 'Expo_2021/Noviembre.zip', 'Expo_2021/Octubre.zip', 'Expo_2021/Septiembre.zip']\n",
      "Expo_2021/Abril.zip\n",
      "['Abril.sav', 'Abril.csv', 'Abril.dta']\n"
     ]
    }
   ],
   "source": [
    "path_de_zip = \"./Expo_2021.zip\"\n",
    "with ZipFile(path_de_zip, \"r\") as zip_file:\n",
    "    nombre_archivos = zip_file.namelist()\n",
    "    print(nombre_archivos)\n",
    "    archivo_a_extraer = nombre_archivos[0]\n",
    "    print(archivo_a_extraer)\n",
    "\n",
    "    # nombre_clean = archivo_a_extraer.replace(path_de_zip[2:-4], \"\")\n",
    "    # print(nombre_clean)\n",
    "    with ZipFile(archivo_a_extraer, \"r\") as zip_interno:\n",
    "        print(zip_interno.namelist())\n",
    "        zip_interno.extractall(\"./EXTRACCION_UNICA\")"
   ]
  },
  {
   "cell_type": "code",
   "execution_count": 39,
   "metadata": {},
   "outputs": [
    {
     "name": "stdout",
     "output_type": "stream",
     "text": [
      "['Expo_2021/Abril.zip', 'Expo_2021/Agosto.zip', 'Expo_2021/Diciembre.zip', 'Expo_2021/Enero.zip', 'Expo_2021/Febrero.zip', 'Expo_2021/Julio.zip', 'Expo_2021/Junio.zip', 'Expo_2021/Marzo.zip', 'Expo_2021/Mayo.zip', 'Expo_2021/Noviembre.zip', 'Expo_2021/Octubre.zip', 'Expo_2021/Septiembre.zip']\n"
     ]
    }
   ],
   "source": []
  },
  {
   "cell_type": "code",
   "execution_count": null,
   "metadata": {},
   "outputs": [],
   "source": []
  }
 ],
 "metadata": {
  "kernelspec": {
   "display_name": "Python 3",
   "language": "python",
   "name": "python3"
  },
  "language_info": {
   "codemirror_mode": {
    "name": "ipython",
    "version": 3
   },
   "file_extension": ".py",
   "mimetype": "text/x-python",
   "name": "python",
   "nbconvert_exporter": "python",
   "pygments_lexer": "ipython3",
   "version": "3.10.11"
  }
 },
 "nbformat": 4,
 "nbformat_minor": 2
}
