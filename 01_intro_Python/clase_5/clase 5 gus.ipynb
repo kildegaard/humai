{
 "cells": [
  {
   "cell_type": "code",
   "execution_count": 1,
   "metadata": {},
   "outputs": [
    {
     "name": "stdout",
     "output_type": "stream",
     "text": [
      "Writing holis.py\n"
     ]
    }
   ],
   "source": [
    "%%writefile holis.py\n",
    "def saludar():\n",
    "    print('Hola!!')"
   ]
  },
  {
   "cell_type": "code",
   "execution_count": 1,
   "metadata": {},
   "outputs": [
    {
     "name": "stdout",
     "output_type": "stream",
     "text": [
      "Overwriting etl.py\n"
     ]
    }
   ],
   "source": [
    "%%writefile etl.py\n",
    "from time import sleep\n",
    "\n",
    "print(\"¡Hola!\")\n",
    "print(__name__)\n",
    "\n",
    "def process_data(data:str):\n",
    "    print(\"Arrancando el procesamiento...\")\n",
    "    modified_data = \"Estoy haciendo un ETL con \" + data\n",
    "    sleep(3)\n",
    "    print(\"Lista la data.\")\n",
    "    return modified_data\n",
    "\n",
    "\n",
    "def main():\n",
    "    data = \"datos de la web\"\n",
    "    print(data)\n",
    "    modified_data = process_data(data)\n",
    "    print(modified_data)\n",
    "\n",
    "if __name__ == \"__main__\":\n",
    "    main()"
   ]
  },
  {
   "cell_type": "code",
   "execution_count": 2,
   "metadata": {},
   "outputs": [
    {
     "name": "stdout",
     "output_type": "stream",
     "text": [
      "¡Hola!\n",
      "etl\n"
     ]
    }
   ],
   "source": [
    "from etl import process_data"
   ]
  },
  {
   "cell_type": "code",
   "execution_count": null,
   "metadata": {},
   "outputs": [],
   "source": [
    "import click\n",
    "\n",
    "\n",
    "@click.command()\n",
    "@click.option(\"--nombre\", type=str, help=\"El nombre de la persona.\")\n",
    "@click.option(\"--edad\", type=int, default=1, help=\"La edad de la persona.\")\n",
    "def me_llamo(nombre, edad):\n",
    "    \"\"\"Programa que arma una frase con nombre y edad.\"\"\"\n",
    "    click.echo(f\"Hola, mi nombre es {nombre}, un gusto :)\")\n",
    "    click.echo(f\"Tengo {edad} años\")"
   ]
  }
 ],
 "metadata": {
  "kernelspec": {
   "display_name": "Python 3",
   "language": "python",
   "name": "python3"
  },
  "language_info": {
   "codemirror_mode": {
    "name": "ipython",
    "version": 3
   },
   "file_extension": ".py",
   "mimetype": "text/x-python",
   "name": "python",
   "nbconvert_exporter": "python",
   "pygments_lexer": "ipython3",
   "version": "3.10.12"
  }
 },
 "nbformat": 4,
 "nbformat_minor": 2
}
