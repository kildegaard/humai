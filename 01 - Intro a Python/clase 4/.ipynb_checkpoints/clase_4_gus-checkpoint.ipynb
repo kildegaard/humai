{
 "cells": [
  {
   "cell_type": "markdown",
   "metadata": {},
   "source": [
    "# Clase de automatización"
   ]
  },
  {
   "cell_type": "markdown",
   "metadata": {},
   "source": [
    "Vamos a usar librerías como: os, glob, shutil\n",
    "\n",
    "También vamos a automatizar cosas con **pyautogui**"
   ]
  },
  {
   "cell_type": "code",
   "execution_count": 2,
   "metadata": {},
   "outputs": [],
   "source": [
    "import pyautogui as pygui"
   ]
  },
  {
   "cell_type": "code",
   "execution_count": 12,
   "metadata": {},
   "outputs": [
    {
     "name": "stdout",
     "output_type": "stream",
     "text": [
      "Tamaño de pantalla: 1920 x 1080\n"
     ]
    }
   ],
   "source": [
    "ancho, alto = pygui.size()\n",
    "print(f'Tamaño de pantalla: {ancho} x {alto}')"
   ]
  },
  {
   "cell_type": "code",
   "execution_count": 11,
   "metadata": {},
   "outputs": [
    {
     "name": "stdout",
     "output_type": "stream",
     "text": [
      "Posición actual: (0; 1079)\n"
     ]
    }
   ],
   "source": [
    "x_actual, y_actual = pygui.position()\n",
    "print(f'Posición actual: ({x_actual}; {y_actual})')"
   ]
  },
  {
   "cell_type": "code",
   "execution_count": 16,
   "metadata": {},
   "outputs": [],
   "source": [
    "# Mueve el mouse a cierta ubicación\n",
    "pygui.moveTo(1500, 500)"
   ]
  },
  {
   "cell_type": "code",
   "execution_count": 19,
   "metadata": {},
   "outputs": [],
   "source": [
    "# Click del mouse\n",
    "pygui.click()"
   ]
  },
  {
   "cell_type": "code",
   "execution_count": 26,
   "metadata": {},
   "outputs": [],
   "source": [
    "# Escribir con una cadencia dada\n",
    "pygui.write('Hola Mundo', interval=0.1)"
   ]
  },
  {
   "cell_type": "code",
   "execution_count": 44,
   "metadata": {},
   "outputs": [],
   "source": [
    "# Apretar un botón\n",
    "pygui.press('alt')"
   ]
  },
  {
   "cell_type": "code",
   "execution_count": 29,
   "metadata": {},
   "outputs": [],
   "source": [
    "pygui.hotkey('ctrl', 'c')"
   ]
  },
  {
   "cell_type": "markdown",
   "metadata": {},
   "source": [
    "## Vamos a jugar ahora con otras librerías"
   ]
  },
  {
   "cell_type": "code",
   "execution_count": 61,
   "metadata": {},
   "outputs": [],
   "source": [
    "from time import sleep\n",
    "import os\n",
    "import numpy as np"
   ]
  },
  {
   "cell_type": "code",
   "execution_count": 53,
   "metadata": {},
   "outputs": [],
   "source": [
    "def cuadrado(l:int):\n",
    "    pygui.drag(l, 0, duration=1)\n",
    "    pygui.drag(0, l, duration=1)\n",
    "    pygui.drag(-l, 0, duration=1)\n",
    "    pygui.drag(0, -l, duration=1)"
   ]
  },
  {
   "cell_type": "code",
   "execution_count": 62,
   "metadata": {},
   "outputs": [],
   "source": [
    "def abrir_paint():\n",
    "    os.system('start mspaint.exe')\n",
    "    sleep(2)\n",
    "    S = pygui.size()\n",
    "    pygui.moveTo(S[0] // 2, S[1] // 2)"
   ]
  },
  {
   "cell_type": "code",
   "execution_count": 72,
   "metadata": {},
   "outputs": [],
   "source": [
    "def cuadrado_espiral(l, ratio=0.98):\n",
    "    pygui.move(-l // 2, -l // 2, duration=0.1)\n",
    "    for i in range(50):\n",
    "        l = l * ratio\n",
    "        pygui.drag(l, 0, duration=0.1)\n",
    "        l = l * ratio\n",
    "        pygui.drag(0, l, duration=0.1)\n",
    "        l = l * ratio\n",
    "        pygui.drag(-l, 0, duration=0.1)\n",
    "        l = l * ratio\n",
    "        pygui.drag(0, -l, duration=0.1)\n",
    "        if l < 5:\n",
    "            break"
   ]
  },
  {
   "cell_type": "code",
   "execution_count": 73,
   "metadata": {},
   "outputs": [],
   "source": [
    "sleep(2)\n",
    "# abrir_paint()\n",
    "cuadrado_espiral(600)"
   ]
  },
  {
   "attachments": {
    "7cf181e8-9548-4edf-8878-38f145987fcf.png": {
     "image/png": "[encoded data removed]"
    }
   },
   "cell_type": "markdown",
   "metadata": {},
   "source": [
    "![image.png](attachment:7cf181e8-9548-4edf-8878-38f145987fcf.png)"
   ]
  },
  {
   "cell_type": "code",
   "execution_count": null,
   "metadata": {},
   "outputs": [],
   "source": []
  }
 ],
 "metadata": {
  "kernelspec": {
   "display_name": "Python 3 (ipykernel)",
   "language": "python",
   "name": "python3"
  },
  "language_info": {
   "codemirror_mode": {
    "name": "ipython",
    "version": 3
   },
   "file_extension": ".py",
   "mimetype": "text/x-python",
   "name": "python",
   "nbconvert_exporter": "python",
   "pygments_lexer": "ipython3",
   "version": "3.10.11"
  }
 },
 "nbformat": 4,
 "nbformat_minor": 4
}
